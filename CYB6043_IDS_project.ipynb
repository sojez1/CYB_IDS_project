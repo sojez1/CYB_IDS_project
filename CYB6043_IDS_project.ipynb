{
  "nbformat": 4,
  "nbformat_minor": 0,
  "metadata": {
    "colab": {
      "provenance": [],
      "gpuType": "T4",
      "authorship_tag": "ABX9TyN95Qk0p+o+I2CvuvaU29He",
      "include_colab_link": true
    },
    "kernelspec": {
      "name": "python3",
      "display_name": "Python 3"
    },
    "language_info": {
      "name": "python"
    },
    "accelerator": "GPU"
  },
  "cells": [
    {
      "cell_type": "markdown",
      "metadata": {
        "id": "view-in-github",
        "colab_type": "text"
      },
      "source": [
        "<a href=\"https://colab.research.google.com/github/sojez1/CYB_IDS_project/blob/main/CYB6043_IDS_project.ipynb\" target=\"_parent\"><img src=\"https://colab.research.google.com/assets/colab-badge.svg\" alt=\"Open In Colab\"/></a>"
      ]
    },
    {
      "cell_type": "markdown",
      "source": [],
      "metadata": {
        "id": "tkIvZr7Epdbi"
      }
    },
    {
      "cell_type": "markdown",
      "source": [
        "# Design an IDS using python and the database NLS-KDD (123975 records)\n",
        "\n",
        "\n",
        "Target: Classify each network connection as either normal or malicious using the given network dataset called NSL-KDD.\n"
      ],
      "metadata": {
        "id": "o3iiXmwCpgo7"
      }
    },
    {
      "cell_type": "markdown",
      "source": [],
      "metadata": {
        "id": "6WA7N5ox7q0t"
      }
    },
    {
      "cell_type": "code",
      "source": [
        "import pandas as pd;\n",
        "print(\"Hello Word\");"
      ],
      "metadata": {
        "colab": {
          "base_uri": "https://localhost:8080/"
        },
        "id": "Fz4eana8qTi5",
        "outputId": "7cfe43d8-5a3b-4cb5-d1d0-f1cc7e180649"
      },
      "execution_count": 1,
      "outputs": [
        {
          "output_type": "stream",
          "name": "stdout",
          "text": [
            "Hello Word\n"
          ]
        }
      ]
    }
  ]
}