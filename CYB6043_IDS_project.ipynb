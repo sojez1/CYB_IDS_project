{
  "nbformat": 4,
  "nbformat_minor": 0,
  "metadata": {
    "colab": {
      "provenance": [],
      "gpuType": "T4",
      "authorship_tag": "ABX9TyPWwwF77OOzccYiyfFvHMch",
      "include_colab_link": true
    },
    "kernelspec": {
      "name": "python3",
      "display_name": "Python 3"
    },
    "language_info": {
      "name": "python"
    },
    "accelerator": "GPU"
  },
  "cells": [
    {
      "cell_type": "markdown",
      "metadata": {
        "id": "view-in-github",
        "colab_type": "text"
      },
      "source": [
        "<a href=\"https://colab.research.google.com/github/sojez1/CYB_IDS_project/blob/main/CYB6043_IDS_project.ipynb\" target=\"_parent\"><img src=\"https://colab.research.google.com/assets/colab-badge.svg\" alt=\"Open In Colab\"/></a>"
      ]
    },
    {
      "cell_type": "markdown",
      "source": [],
      "metadata": {
        "id": "tkIvZr7Epdbi"
      }
    },
    {
      "cell_type": "markdown",
      "source": [
        "# Design an IDS using python and the database NLS-KDD (123975 records)\n",
        "\n",
        "\n",
        "P"
      ],
      "metadata": {
        "id": "o3iiXmwCpgo7"
      }
    },
    {
      "cell_type": "code",
      "source": [
        "import pandas as pd;\n",
        "print(\"Hello Word\");"
      ],
      "metadata": {
        "id": "Fz4eana8qTi5",
        "outputId": "7cfe43d8-5a3b-4cb5-d1d0-f1cc7e180649",
        "colab": {
          "base_uri": "https://localhost:8080/"
        }
      },
      "execution_count": 1,
      "outputs": [
        {
          "output_type": "stream",
          "name": "stdout",
          "text": [
            "Hello Word\n"
          ]
        }
      ]
    }
  ]
}